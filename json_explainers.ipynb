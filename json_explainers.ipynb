{
 "cells": [
  {
   "cell_type": "code",
   "execution_count": 1,
   "metadata": {},
   "outputs": [],
   "source": [
    "# Load all necessary packages\n",
    "import sys\n",
    "sys.path.append(\"../\")\n",
    "from collections import OrderedDict\n",
    "import json\n",
    "from pprint import pprint\n",
    "from aif360.datasets import GermanDataset, BinaryLabelDataset\n",
    "from aif360.metrics import BinaryLabelDatasetMetric\n",
    "from aif360.explainers import MetricTextExplainer, MetricJSONExplainer\n",
    "from IPython.display import JSON, display_json\n",
    "import pandas as pd"
   ]
  },
  {
   "cell_type": "markdown",
   "metadata": {},
   "source": [
    "##### Load dataset"
   ]
  },
  {
   "cell_type": "code",
   "execution_count": 2,
   "metadata": {},
   "outputs": [
    {
     "name": "stdout",
     "output_type": "stream",
     "text": [
      "             salary  experience  gender  fairness\n",
      "0      51494.981021   10.337294     1.0         0\n",
      "1      27635.274358    6.078640     1.0         1\n",
      "2      29303.546835    8.730298     0.0         0\n",
      "3      20326.576332    3.871194     0.0         0\n",
      "4      44990.474458   10.137524     1.0         0\n",
      "5      39816.357168    7.279791     1.0         0\n",
      "6      57830.104768   11.107974     1.0         0\n",
      "7      49511.409631    8.177477     1.0         0\n",
      "8      46033.406447    9.759576     1.0         0\n",
      "9      43938.443721    8.679829     1.0         0\n",
      "10     34863.079132    8.754441     1.0         1\n",
      "11     48971.887613   10.360411     1.0         0\n",
      "12     27379.154204   11.300719     0.0         0\n",
      "13     39741.010227    5.853385     1.0         0\n",
      "14     38838.012547    7.865720     1.0         0\n",
      "15     63622.574913   14.568955     1.0         0\n",
      "16     43013.654930   13.418665     0.0         0\n",
      "17     35983.213434    7.095045     1.0         0\n",
      "18     48759.266277   14.905346     1.0         1\n",
      "19     43977.565884   11.507062     1.0         0\n",
      "20     55687.857229   13.427525     1.0         0\n",
      "21     52955.126043   10.119175     1.0         0\n",
      "22     50759.200538   10.349990     1.0         0\n",
      "23     43491.986187    8.690312     1.0         0\n",
      "24     68602.492946   13.490256     1.0         0\n",
      "25     52802.017112   10.555132     1.0         0\n",
      "26     48646.395509    8.364957     1.0         0\n",
      "27     42361.358559    8.287053     1.0         0\n",
      "28     44125.672407    3.315339     1.0         0\n",
      "29     50790.545731   12.307440     1.0         0\n",
      "...             ...         ...     ...       ...\n",
      "49970  59389.019959   11.663897     1.0         0\n",
      "49971  54794.298429   10.761953     1.0         0\n",
      "49972  57088.824204   12.407332     1.0         0\n",
      "49973  53431.251884   11.292790     1.0         0\n",
      "49974  49609.911716   12.567853     0.0         0\n",
      "49975  67468.117878   17.718936     1.0         0\n",
      "49976  52331.011977   11.461304     1.0         0\n",
      "49977  68044.364613   13.380148     1.0         0\n",
      "49978  40241.345173   12.148648     0.0         0\n",
      "49979  64531.145035   16.774906     1.0         0\n",
      "49980  34544.500039    5.923139     1.0         0\n",
      "49981  43096.539270   12.325997     1.0         1\n",
      "49982  40301.326114    7.435144     1.0         0\n",
      "49983  44676.134273    9.188343     1.0         0\n",
      "49984  56102.972601   11.108796     1.0         0\n",
      "49985  52095.796739   10.613792     1.0         0\n",
      "49986  50840.657404   13.917175     1.0         0\n",
      "49987  33090.884992    9.413758     0.0         0\n",
      "49988  46830.279181   10.868333     1.0         0\n",
      "49989  62355.625981   13.399777     1.0         0\n",
      "49990  43992.568869    9.816784     1.0         0\n",
      "49991  32020.304628    9.565802     0.0         0\n",
      "49992  53785.576091   12.353825     1.0         0\n",
      "49993  37187.782133    6.623229     1.0         0\n",
      "49994  33471.907662    6.876520     1.0         0\n",
      "49995  50411.321788   11.026159     1.0         0\n",
      "49996  39333.091948   11.546368     1.0         0\n",
      "49997  39424.614290   10.737758     0.0         0\n",
      "49998  59766.689039   12.481506     1.0         0\n",
      "49999  54797.587002   11.745798     1.0         0\n",
      "\n",
      "[50000 rows x 4 columns]\n"
     ]
    }
   ],
   "source": [
    "df=pd.read_csv('fairness_data.csv')\n",
    "df = df.drop(columns=['Unnamed: 0','Unnamed: 0.1'])\n",
    "print(df)\n",
    "label_map = {1: 'Unfair', 0: 'Fair'}\n",
    "protected_attribute_maps = [{1.0: 'Male', 0.0: 'Female'}]\n",
    "#dataset = BinaryLabelDataset(df=df, label_names=None,protected_attribute_names=['gender'], metadata={'label_map': label_map, 'protected_attirbute_maps': protected_attribute_maps})\n",
    "dataset=BinaryLabelDataset(favorable_label=0,unfavorable_label=1,df=df,label_names=['fairness'],protected_attribute_names=['gender'])\n",
    "\n"
   ]
  },
  {
   "cell_type": "markdown",
   "metadata": {},
   "source": [
    "##### Create metrics"
   ]
  },
  {
   "cell_type": "code",
   "execution_count": 3,
   "metadata": {},
   "outputs": [],
   "source": [
    "priv = [{'gender': 1}]\n",
    "unpriv = [{'gender': 0}]\n",
    "bldm = BinaryLabelDatasetMetric(dataset, unprivileged_groups=unpriv, privileged_groups=priv)\n",
    "#bldm_gd = BinaryLabelDatasetMetric(gd, unprivileged_groups=[{'sex': 0}], privileged_groups=[{'sex': 1}])\n",
    "#print(gd)"
   ]
  },
  {
   "cell_type": "markdown",
   "metadata": {},
   "source": [
    "##### Create explainers"
   ]
  },
  {
   "cell_type": "code",
   "execution_count": 4,
   "metadata": {},
   "outputs": [],
   "source": [
    "text_expl = MetricTextExplainer(bldm)\n",
    "json_expl = MetricJSONExplainer(bldm)"
   ]
  },
  {
   "cell_type": "markdown",
   "metadata": {},
   "source": [
    "##### Text explanations"
   ]
  },
  {
   "cell_type": "code",
   "execution_count": 5,
   "metadata": {},
   "outputs": [
    {
     "name": "stdout",
     "output_type": "stream",
     "text": [
      "Number of positive-outcome instances: 44850.0\n"
     ]
    }
   ],
   "source": [
    "print(text_expl.num_positives())"
   ]
  },
  {
   "cell_type": "code",
   "execution_count": 6,
   "metadata": {},
   "outputs": [
    {
     "name": "stdout",
     "output_type": "stream",
     "text": [
      "Mean difference (mean label value on privileged instances - mean label value on unprivileged instances): -0.012249999999999983\n"
     ]
    }
   ],
   "source": [
    "print(text_expl.mean_difference())"
   ]
  },
  {
   "cell_type": "code",
   "execution_count": 7,
   "metadata": {},
   "outputs": [
    {
     "name": "stdout",
     "output_type": "stream",
     "text": [
      "Disparate impact (probability of favorable outcome for unprivileged instances / probability of favorable outcome for privileged instances): 0.9863805659013842\n"
     ]
    }
   ],
   "source": [
    "print(text_expl.disparate_impact())"
   ]
  },
  {
   "cell_type": "markdown",
   "metadata": {},
   "source": [
    "##### JSON Explanations"
   ]
  },
  {
   "cell_type": "code",
   "execution_count": 8,
   "metadata": {},
   "outputs": [],
   "source": [
    "def format_json(json_str):\n",
    "    return json.dumps(json.loads(json_str, object_pairs_hook=OrderedDict), indent=2)"
   ]
  },
  {
   "cell_type": "code",
   "execution_count": 9,
   "metadata": {},
   "outputs": [
    {
     "name": "stdout",
     "output_type": "stream",
     "text": [
      "{\n",
      "  \"metric\": \"Number Of Positives\",\n",
      "  \"message\": \"Number of positive-outcome instances: 44850.0\",\n",
      "  \"numPositives\": 44850.0,\n",
      "  \"description\": \"Computed as the number of positive instances for the given (privileged or unprivileged) group.\",\n",
      "  \"ideal\": \"The ideal value of this metric lies in the total number of positive instances made available\"\n",
      "}\n"
     ]
    }
   ],
   "source": [
    "print(format_json(json_expl.num_positives()))"
   ]
  },
  {
   "cell_type": "code",
   "execution_count": 10,
   "metadata": {},
   "outputs": [
    {
     "name": "stdout",
     "output_type": "stream",
     "text": [
      "{\n",
      "  \"metric\": \"Mean Difference\",\n",
      "  \"message\": \"Mean difference (mean label value on privileged instances - mean label value on unprivileged instances): -0.012249999999999983\",\n",
      "  \"numPositivesUnprivileged\": 8872.0,\n",
      "  \"numInstancesUnprivileged\": 10000.0,\n",
      "  \"numPositivesPrivileged\": 35978.0,\n",
      "  \"numInstancesPrivileged\": 40000.0,\n",
      "  \"description\": \"Computed as the difference of the rate of favorable outcomes received by the unprivileged group to the privileged group.\",\n",
      "  \"ideal\": \"The ideal value of this metric is 0.0\"\n",
      "}\n"
     ]
    }
   ],
   "source": [
    "print(format_json(json_expl.mean_difference()))"
   ]
  },
  {
   "cell_type": "code",
   "execution_count": 11,
   "metadata": {},
   "outputs": [
    {
     "name": "stdout",
     "output_type": "stream",
     "text": [
      "{\n",
      "  \"metric\": \"Disparate Impact\",\n",
      "  \"message\": \"Disparate impact (probability of favorable outcome for unprivileged instances / probability of favorable outcome for privileged instances): 0.9863805659013842\",\n",
      "  \"numPositivePredictionsUnprivileged\": 8872.0,\n",
      "  \"numUnprivileged\": 10000.0,\n",
      "  \"numPositivePredictionsPrivileged\": 35978.0,\n",
      "  \"numPrivileged\": 40000.0,\n",
      "  \"description\": \"Computed as the ratio of rate of favorable outcome for the unprivileged group to that of the privileged group.\",\n",
      "  \"ideal\": \"The ideal value of this metric is 1.0 A value < 1 implies higher benefit for the privileged group and a value >1 implies a higher benefit for the unprivileged group.\"\n",
      "}\n"
     ]
    }
   ],
   "source": [
    "print(format_json(json_expl.disparate_impact()))"
   ]
  },
  {
   "cell_type": "code",
   "execution_count": null,
   "metadata": {},
   "outputs": [],
   "source": []
  }
 ],
 "metadata": {
  "kernelspec": {
   "display_name": "Python 3",
   "language": "python",
   "name": "python3"
  },
  "language_info": {
   "codemirror_mode": {
    "name": "ipython",
    "version": 3
   },
   "file_extension": ".py",
   "mimetype": "text/x-python",
   "name": "python",
   "nbconvert_exporter": "python",
   "pygments_lexer": "ipython3",
   "version": "3.6.5"
  }
 },
 "nbformat": 4,
 "nbformat_minor": 2
}
