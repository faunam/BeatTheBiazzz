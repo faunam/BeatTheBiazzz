{
 "cells": [
  {
   "cell_type": "code",
   "execution_count": 79,
   "metadata": {},
   "outputs": [],
   "source": [
    "import pandas as pd\n",
    "import numpy as np"
   ]
  },
  {
   "cell_type": "code",
   "execution_count": 80,
   "metadata": {},
   "outputs": [],
   "source": [
    "from sklearn.metrics import mean_squared_error"
   ]
  },
  {
   "cell_type": "code",
   "execution_count": 81,
   "metadata": {},
   "outputs": [],
   "source": [
    "df=pd.read_csv('salary_data.csv')"
   ]
  },
  {
   "cell_type": "code",
   "execution_count": 82,
   "metadata": {},
   "outputs": [
    {
     "data": {
      "text/html": [
       "<div>\n",
       "<style scoped>\n",
       "    .dataframe tbody tr th:only-of-type {\n",
       "        vertical-align: middle;\n",
       "    }\n",
       "\n",
       "    .dataframe tbody tr th {\n",
       "        vertical-align: top;\n",
       "    }\n",
       "\n",
       "    .dataframe thead th {\n",
       "        text-align: right;\n",
       "    }\n",
       "</style>\n",
       "<table border=\"1\" class=\"dataframe\">\n",
       "  <thead>\n",
       "    <tr style=\"text-align: right;\">\n",
       "      <th></th>\n",
       "      <th>Unnamed: 0</th>\n",
       "      <th>salary</th>\n",
       "      <th>experience</th>\n",
       "      <th>gender</th>\n",
       "    </tr>\n",
       "  </thead>\n",
       "  <tbody>\n",
       "    <tr>\n",
       "      <th>0</th>\n",
       "      <td>0</td>\n",
       "      <td>51494.981021</td>\n",
       "      <td>10.337294</td>\n",
       "      <td>1.0</td>\n",
       "    </tr>\n",
       "    <tr>\n",
       "      <th>1</th>\n",
       "      <td>1</td>\n",
       "      <td>27635.274358</td>\n",
       "      <td>6.078640</td>\n",
       "      <td>1.0</td>\n",
       "    </tr>\n",
       "    <tr>\n",
       "      <th>2</th>\n",
       "      <td>2</td>\n",
       "      <td>29303.546835</td>\n",
       "      <td>8.730298</td>\n",
       "      <td>0.0</td>\n",
       "    </tr>\n",
       "    <tr>\n",
       "      <th>3</th>\n",
       "      <td>3</td>\n",
       "      <td>20326.576332</td>\n",
       "      <td>3.871194</td>\n",
       "      <td>0.0</td>\n",
       "    </tr>\n",
       "    <tr>\n",
       "      <th>4</th>\n",
       "      <td>4</td>\n",
       "      <td>44990.474458</td>\n",
       "      <td>10.137524</td>\n",
       "      <td>1.0</td>\n",
       "    </tr>\n",
       "    <tr>\n",
       "      <th>5</th>\n",
       "      <td>5</td>\n",
       "      <td>39816.357168</td>\n",
       "      <td>7.279791</td>\n",
       "      <td>1.0</td>\n",
       "    </tr>\n",
       "    <tr>\n",
       "      <th>6</th>\n",
       "      <td>6</td>\n",
       "      <td>57830.104768</td>\n",
       "      <td>11.107974</td>\n",
       "      <td>1.0</td>\n",
       "    </tr>\n",
       "    <tr>\n",
       "      <th>7</th>\n",
       "      <td>7</td>\n",
       "      <td>49511.409631</td>\n",
       "      <td>8.177477</td>\n",
       "      <td>1.0</td>\n",
       "    </tr>\n",
       "    <tr>\n",
       "      <th>8</th>\n",
       "      <td>8</td>\n",
       "      <td>46033.406447</td>\n",
       "      <td>9.759576</td>\n",
       "      <td>1.0</td>\n",
       "    </tr>\n",
       "    <tr>\n",
       "      <th>9</th>\n",
       "      <td>9</td>\n",
       "      <td>43938.443721</td>\n",
       "      <td>8.679829</td>\n",
       "      <td>1.0</td>\n",
       "    </tr>\n",
       "  </tbody>\n",
       "</table>\n",
       "</div>"
      ],
      "text/plain": [
       "   Unnamed: 0        salary  experience  gender\n",
       "0           0  51494.981021   10.337294     1.0\n",
       "1           1  27635.274358    6.078640     1.0\n",
       "2           2  29303.546835    8.730298     0.0\n",
       "3           3  20326.576332    3.871194     0.0\n",
       "4           4  44990.474458   10.137524     1.0\n",
       "5           5  39816.357168    7.279791     1.0\n",
       "6           6  57830.104768   11.107974     1.0\n",
       "7           7  49511.409631    8.177477     1.0\n",
       "8           8  46033.406447    9.759576     1.0\n",
       "9           9  43938.443721    8.679829     1.0"
      ]
     },
     "execution_count": 82,
     "metadata": {},
     "output_type": "execute_result"
    }
   ],
   "source": [
    "df[0:10]"
   ]
  },
  {
   "cell_type": "code",
   "execution_count": 83,
   "metadata": {},
   "outputs": [
    {
     "data": {
      "text/plain": [
       "<matplotlib.collections.PathCollection at 0x1a1ae6d978>"
      ]
     },
     "execution_count": 83,
     "metadata": {},
     "output_type": "execute_result"
    },
    {
     "data": {
      "image/png": "[encoded data removed]",
      "text/plain": [
       "<Figure size 432x288 with 1 Axes>"
      ]
     },
     "metadata": {
      "needs_background": "light"
     },
     "output_type": "display_data"
    }
   ],
   "source": [
    "import matplotlib.pyplot as plt\n",
    "male=df.loc[df.gender==1]\n",
    "male_salary=male['salary']\n",
    "male_experience=male['experience']\n",
    "plt.scatter(male_experience,male_salary)\n"
   ]
  },
  {
   "cell_type": "code",
   "execution_count": 84,
   "metadata": {},
   "outputs": [],
   "source": [
    "from sklearn.model_selection import train_test_split\n",
    "X_train, X_test, y_train, y_test = train_test_split(male[['experience']], male['salary'], test_size=0.2, random_state=101)"
   ]
  },
  {
   "cell_type": "code",
   "execution_count": 85,
   "metadata": {},
   "outputs": [
    {
     "data": {
      "text/plain": [
       "LinearRegression(copy_X=True, fit_intercept=True, n_jobs=None,\n",
       "         normalize=False)"
      ]
     },
     "execution_count": 85,
     "metadata": {},
     "output_type": "execute_result"
    }
   ],
   "source": [
    "from sklearn.linear_model import LinearRegression\n",
    "lm_m = LinearRegression()\n",
    "lm_m.fit(X_train,y_train)"
   ]
  },
  {
   "cell_type": "code",
   "execution_count": 86,
   "metadata": {},
   "outputs": [],
   "source": [
    "predictions = lm_m.predict(X_test)"
   ]
  },
  {
   "cell_type": "code",
   "execution_count": 87,
   "metadata": {},
   "outputs": [
    {
     "data": {
      "text/plain": [
       "([], <a list of 0 Text yticklabel objects>)"
      ]
     },
     "execution_count": 87,
     "metadata": {},
     "output_type": "execute_result"
    },
    {
     "data": {
      "image/png": "[encoded data removed]",
      "text/plain": [
       "<Figure size 432x288 with 1 Axes>"
      ]
     },
     "metadata": {},
     "output_type": "display_data"
    }
   ],
   "source": [
    "plt.scatter(X_test, y_test,  color='blue')\n",
    "plt.plot(X_test, lm_m.predict(np.asarray(X_test).reshape(-1,1)), color='red',linewidth=3)\n",
    "plt.title('Male Test Data')\n",
    "plt.xlabel('Experience')\n",
    "plt.ylabel('Salary')\n",
    "plt.xticks(())\n",
    "plt.yticks(())"
   ]
  },
  {
   "cell_type": "code",
   "execution_count": 88,
   "metadata": {},
   "outputs": [
    {
     "data": {
      "text/html": [
       "<div>\n",
       "<style scoped>\n",
       "    .dataframe tbody tr th:only-of-type {\n",
       "        vertical-align: middle;\n",
       "    }\n",
       "\n",
       "    .dataframe tbody tr th {\n",
       "        vertical-align: top;\n",
       "    }\n",
       "\n",
       "    .dataframe thead th {\n",
       "        text-align: right;\n",
       "    }\n",
       "</style>\n",
       "<table border=\"1\" class=\"dataframe\">\n",
       "  <thead>\n",
       "    <tr style=\"text-align: right;\">\n",
       "      <th></th>\n",
       "      <th>Unnamed: 0</th>\n",
       "      <th>salary</th>\n",
       "      <th>experience</th>\n",
       "      <th>gender</th>\n",
       "    </tr>\n",
       "  </thead>\n",
       "  <tbody>\n",
       "    <tr>\n",
       "      <th>0</th>\n",
       "      <td>0</td>\n",
       "      <td>51494.981021</td>\n",
       "      <td>10.337294</td>\n",
       "      <td>1.0</td>\n",
       "    </tr>\n",
       "    <tr>\n",
       "      <th>1</th>\n",
       "      <td>1</td>\n",
       "      <td>27635.274358</td>\n",
       "      <td>6.078640</td>\n",
       "      <td>1.0</td>\n",
       "    </tr>\n",
       "    <tr>\n",
       "      <th>4</th>\n",
       "      <td>4</td>\n",
       "      <td>44990.474458</td>\n",
       "      <td>10.137524</td>\n",
       "      <td>1.0</td>\n",
       "    </tr>\n",
       "    <tr>\n",
       "      <th>5</th>\n",
       "      <td>5</td>\n",
       "      <td>39816.357168</td>\n",
       "      <td>7.279791</td>\n",
       "      <td>1.0</td>\n",
       "    </tr>\n",
       "    <tr>\n",
       "      <th>6</th>\n",
       "      <td>6</td>\n",
       "      <td>57830.104768</td>\n",
       "      <td>11.107974</td>\n",
       "      <td>1.0</td>\n",
       "    </tr>\n",
       "    <tr>\n",
       "      <th>7</th>\n",
       "      <td>7</td>\n",
       "      <td>49511.409631</td>\n",
       "      <td>8.177477</td>\n",
       "      <td>1.0</td>\n",
       "    </tr>\n",
       "    <tr>\n",
       "      <th>8</th>\n",
       "      <td>8</td>\n",
       "      <td>46033.406447</td>\n",
       "      <td>9.759576</td>\n",
       "      <td>1.0</td>\n",
       "    </tr>\n",
       "    <tr>\n",
       "      <th>9</th>\n",
       "      <td>9</td>\n",
       "      <td>43938.443721</td>\n",
       "      <td>8.679829</td>\n",
       "      <td>1.0</td>\n",
       "    </tr>\n",
       "    <tr>\n",
       "      <th>10</th>\n",
       "      <td>10</td>\n",
       "      <td>34863.079132</td>\n",
       "      <td>8.754441</td>\n",
       "      <td>1.0</td>\n",
       "    </tr>\n",
       "    <tr>\n",
       "      <th>11</th>\n",
       "      <td>11</td>\n",
       "      <td>48971.887613</td>\n",
       "      <td>10.360411</td>\n",
       "      <td>1.0</td>\n",
       "    </tr>\n",
       "  </tbody>\n",
       "</table>\n",
       "</div>"
      ],
      "text/plain": [
       "    Unnamed: 0        salary  experience  gender\n",
       "0            0  51494.981021   10.337294     1.0\n",
       "1            1  27635.274358    6.078640     1.0\n",
       "4            4  44990.474458   10.137524     1.0\n",
       "5            5  39816.357168    7.279791     1.0\n",
       "6            6  57830.104768   11.107974     1.0\n",
       "7            7  49511.409631    8.177477     1.0\n",
       "8            8  46033.406447    9.759576     1.0\n",
       "9            9  43938.443721    8.679829     1.0\n",
       "10          10  34863.079132    8.754441     1.0\n",
       "11          11  48971.887613   10.360411     1.0"
      ]
     },
     "execution_count": 88,
     "metadata": {},
     "output_type": "execute_result"
    }
   ],
   "source": [
    "male[0:10]"
   ]
  },
  {
   "cell_type": "code",
   "execution_count": 89,
   "metadata": {},
   "outputs": [
    {
     "data": {
      "text/plain": [
       "array([46218.50705784, 51535.25897655])"
      ]
     },
     "execution_count": 89,
     "metadata": {},
     "output_type": "execute_result"
    }
   ],
   "source": [
    "import numpy as np\n",
    "lm_m.predict(np.array([[10],[12]]))"
   ]
  },
  {
   "cell_type": "code",
   "execution_count": 90,
   "metadata": {},
   "outputs": [
    {
     "data": {
      "text/plain": [
       "<matplotlib.collections.PathCollection at 0x1a1a3b0eb8>"
      ]
     },
     "execution_count": 90,
     "metadata": {},
     "output_type": "execute_result"
    },
    {
     "data": {
      "image/png": "[encoded data removed]",
      "text/plain": [
       "<Figure size 432x288 with 1 Axes>"
      ]
     },
     "metadata": {
      "needs_background": "light"
     },
     "output_type": "display_data"
    }
   ],
   "source": [
    "import matplotlib.pyplot as plt\n",
    "female=df.loc[df.gender==0]\n",
    "female_salary=female['salary']\n",
    "female_experience=female['experience']\n",
    "plt.scatter(female_experience,female_salary,c='g')\n"
   ]
  },
  {
   "cell_type": "code",
   "execution_count": 91,
   "metadata": {},
   "outputs": [],
   "source": [
    "X_m_test = X_test\n",
    "y_m_test = y_test"
   ]
  },
  {
   "cell_type": "code",
   "execution_count": 92,
   "metadata": {},
   "outputs": [],
   "source": [
    "X_train, X_test, y_train, y_test = train_test_split(female['experience'], female['salary'], test_size=0.1, random_state=101)"
   ]
  },
  {
   "cell_type": "code",
   "execution_count": 93,
   "metadata": {},
   "outputs": [],
   "source": [
    "X_w_test = X_test"
   ]
  },
  {
   "cell_type": "code",
   "execution_count": 94,
   "metadata": {},
   "outputs": [
    {
     "data": {
      "text/plain": [
       "(9000,)"
      ]
     },
     "execution_count": 94,
     "metadata": {},
     "output_type": "execute_result"
    }
   ],
   "source": [
    "y_train.shape"
   ]
  },
  {
   "cell_type": "code",
   "execution_count": 95,
   "metadata": {},
   "outputs": [
    {
     "data": {
      "text/plain": [
       "LinearRegression(copy_X=True, fit_intercept=True, n_jobs=None,\n",
       "         normalize=False)"
      ]
     },
     "execution_count": 95,
     "metadata": {},
     "output_type": "execute_result"
    }
   ],
   "source": [
    "lm = LinearRegression()\n",
    "lm.fit(np.asarray(X_train).reshape(-1,1),y_train)"
   ]
  },
  {
   "cell_type": "code",
   "execution_count": 96,
   "metadata": {},
   "outputs": [],
   "source": [
    "predictions = lm.predict(np.asarray(X_test).reshape(-1,1))"
   ]
  },
  {
   "cell_type": "code",
   "execution_count": 97,
   "metadata": {},
   "outputs": [
    {
     "data": {
      "text/plain": [
       "<matplotlib.collections.PathCollection at 0x1a1a1ee128>"
      ]
     },
     "execution_count": 97,
     "metadata": {},
     "output_type": "execute_result"
    },
    {
     "data": {
      "image/png": "[encoded data removed]",
      "text/plain": [
       "<Figure size 432x288 with 1 Axes>"
      ]
     },
     "metadata": {
      "needs_background": "light"
     },
     "output_type": "display_data"
    }
   ],
   "source": [
    "plt.scatter(X_test,predictions,c='g')"
   ]
  },
  {
   "cell_type": "code",
   "execution_count": 98,
   "metadata": {},
   "outputs": [
    {
     "data": {
      "text/plain": [
       "array([37619.37695159, 42985.64522775])"
      ]
     },
     "execution_count": 98,
     "metadata": {},
     "output_type": "execute_result"
    }
   ],
   "source": [
    "lm.predict(np.array([[10],[12]]))"
   ]
  },
  {
   "cell_type": "code",
   "execution_count": 99,
   "metadata": {},
   "outputs": [
    {
     "data": {
      "text/plain": [
       "37151463.673161454"
      ]
     },
     "execution_count": 99,
     "metadata": {},
     "output_type": "execute_result"
    }
   ],
   "source": [
    "mean_squared_error(y_test, predictions)  "
   ]
  },
  {
   "cell_type": "code",
   "execution_count": 100,
   "metadata": {},
   "outputs": [
    {
     "data": {
      "text/plain": [
       "33877    44967.420527\n",
       "32603    36359.426432\n",
       "49244    47181.315195\n",
       "Name: salary, dtype: float64"
      ]
     },
     "execution_count": 100,
     "metadata": {},
     "output_type": "execute_result"
    }
   ],
   "source": [
    "y_test[0:3]"
   ]
  },
  {
   "cell_type": "code",
   "execution_count": 101,
   "metadata": {},
   "outputs": [
    {
     "data": {
      "text/plain": [
       "([], <a list of 0 Text yticklabel objects>)"
      ]
     },
     "execution_count": 101,
     "metadata": {},
     "output_type": "execute_result"
    },
    {
     "data": {
      "image/png": "[encoded data removed]",
      "text/plain": [
       "<Figure size 432x288 with 1 Axes>"
      ]
     },
     "metadata": {},
     "output_type": "display_data"
    }
   ],
   "source": [
    "plt.scatter(X_test, y_test,  color='black')\n",
    "plt.plot(X_test, lm.predict(np.asarray(X_test).reshape(-1,1)), color='red',linewidth=3)\n",
    "plt.title('Female Test Data')\n",
    "plt.xlabel('Experience')\n",
    "plt.ylabel('Salary')\n",
    "plt.xticks(())\n",
    "plt.yticks(())\n",
    " \n"
   ]
  },
  {
   "cell_type": "code",
   "execution_count": 102,
   "metadata": {},
   "outputs": [],
   "source": [
    "import random\n",
    "Common_test=[]\n",
    "for j in range(25): \n",
    "        Common_test.append(random.randint(1, 25)) "
   ]
  },
  {
   "cell_type": "code",
   "execution_count": 103,
   "metadata": {},
   "outputs": [],
   "source": [
    "#test data\n",
    "# plt.scatter(X_test, y_test,  color='#ff8993')\n",
    "# plt.scatter(X_m_test, y_m_test,  color='#609af7')"
   ]
  },
  {
   "cell_type": "code",
   "execution_count": 123,
   "metadata": {},
   "outputs": [
    {
     "data": {
      "text/plain": [
       "<matplotlib.collections.PathCollection at 0x1a1b6a0860>"
      ]
     },
     "execution_count": 123,
     "metadata": {},
     "output_type": "execute_result"
    },
    {
     "data": {
      "image/png": "[encoded data removed]",
      "text/plain": [
       "<Figure size 432x288 with 1 Axes>"
      ]
     },
     "metadata": {
      "needs_background": "light"
     },
     "output_type": "display_data"
    }
   ],
   "source": [
    "\n",
    "plt.plot(Common_test, lm.predict(np.asarray(Common_test).reshape(-1,1)), color='red',linewidth=3)\n",
    "\n",
    "plt.plot(Common_test, lm_m.predict(np.asarray(Common_test).reshape(-1,1)), color='blue',linewidth=3)\n",
    "plt.scatter(X_m_test, y_m_test,  color='#609af7', alpha=0.2)\n",
    "plt.scatter(X_test, y_test,  color='#ff8993', alpha=0.5)"
   ]
  },
  {
   "cell_type": "code",
   "execution_count": 129,
   "metadata": {},
   "outputs": [
    {
     "name": "stdout",
     "output_type": "stream",
     "text": [
      "[39128.38099349 37627.07783423 51213.8110166  39733.58700555\n",
      " 51620.44394125 40312.83942962 36351.98449849 24223.09896432\n",
      " 42380.60537105 50243.50002528 39335.42868734 44593.27097295\n",
      " 40394.67831225 43450.50066931 45862.77843091 31469.32596963\n",
      " 38011.10585512 50579.39604858 18356.27618801 39573.143103\n",
      " 39765.45762195 47080.1352781  36174.88107074 24775.64065852\n",
      " 54035.39686689 44558.82964313 51176.1551766  44306.7897375\n",
      " 41297.44454816 41294.62903703 29903.95155978 26500.77201489\n",
      " 47275.17526324 41543.57594154 43822.09221509 51826.96200658\n",
      " 24487.9458842  33501.85051489 36272.64063344 36187.04450506\n",
      " 45572.78405398 35198.64919385 39260.58184764 46601.469378\n",
      " 37150.20796191 31661.73163901 60442.57864234 34566.00926092\n",
      " 24734.67850529 43735.24404652 54616.7306773  37685.21916495\n",
      " 44869.72983285 49872.83312584 49739.35661481 37857.91173884\n",
      " 45668.37884826 36505.26229899 48326.72660848 37664.04765829\n",
      " 46385.97063055 22639.96108736 35059.46923612 33283.87736451\n",
      " 44748.52974089 43039.55286143 37159.37966599 44248.59142125\n",
      " 42860.86059342 30737.79315732 42857.69972819 34557.77810157\n",
      " 49401.80771806 43246.2189813  27452.40189596 57989.67017277\n",
      " 30868.25102904 41202.52951129 41794.48785984 32935.16163094\n",
      " 31587.81479982 41206.99106875 44014.44996079 50348.25923642\n",
      " 41087.14812633 45817.09396661 26225.32132868 44006.95252551\n",
      " 37727.09120252 24262.69730945 40775.2805108  28467.76254974\n",
      " 42749.7139274  37986.14137873 38318.10160493 47448.04198466\n",
      " 34062.21032503 40221.60083578 39966.68107707 34386.29970802\n",
      " 47425.7430936  47065.80290596 59772.4432245  40272.88705873\n",
      " 41241.744292   40893.21921706 25591.31717731 50875.49990124\n",
      " 60614.59417357 31724.31520188 22910.74382228 47747.73870567\n",
      " 29680.33248999 54662.90185993 41306.9585382  44885.28344405\n",
      " 52172.70110416 45039.2984429  34682.70615906 20100.43937619\n",
      " 50728.12621589 37479.66137033 41763.41323573 32537.16848267\n",
      " 35216.01642782 51669.92701569 49738.27463976 38896.78809675\n",
      " 48876.23415238 53461.20527917 44609.15928331 42572.34844245\n",
      " 52876.94871674 23102.52126282 45439.17585074 37143.75051314\n",
      " 39501.13952582 35239.524572   57366.86357882 50144.51206362\n",
      " 50876.63558124 40446.95553461 55288.70542196 33386.5158111\n",
      " 40342.7108713  44578.2816194  45686.72524054 36704.17893309\n",
      " 32145.62618018 32579.65423496 38336.25756    35923.55714658\n",
      " 28997.03050729 39819.69382925 50108.80993715 40977.37832829\n",
      " 40771.56057492 44392.32182261 56752.13191444 58745.59011383\n",
      " 22676.17075948 42566.85313386 35345.58347167 42009.7586015\n",
      " 38713.16483419 43553.6811032  32650.92605639 32915.24451355\n",
      " 39600.00019317 48164.28409491 29838.33516899 35255.7580048\n",
      " 37006.69492704 43606.59111718 37884.53198822 33774.19548002\n",
      " 36001.92508738 37382.07150197 34092.08195277 34607.80635758\n",
      " 53616.66078182 34031.65700899 59574.39956784 48431.32783269\n",
      " 46699.0517818  39617.90285228 20721.56278377 37251.08176941\n",
      " 50761.55986477 39182.098427   34499.40917158 53759.36753671\n",
      " 34855.60276821 43321.5004404  49919.03897186 32043.16223877\n",
      " 37497.9797657  41684.31544311 46698.60566908 42103.41018306\n",
      " 45527.41688437 36637.51859614 43159.33628536 64953.34638625\n",
      " 46265.89318681 34014.43457903 36761.22911787 31291.70691436\n",
      " 38925.60466385 33680.91812587 33966.68963336 44868.32337137\n",
      " 45420.48061725 51541.34417756 48839.43240392 43906.9845183\n",
      " 43070.44204898 39474.72078605 33234.93415308 32643.91840509\n",
      " 33719.40969725 32626.61550274 39695.96571484 36737.08061088\n",
      " 25475.77868009 37417.26484463 36028.40039869 37322.24467985\n",
      " 31343.26963648 37467.93179866 40663.21156864 43998.11741337\n",
      " 37630.18372475 28770.92753057 42681.03293268 35398.56740305\n",
      " 61562.68435672 43438.26680666 55970.72388583 39177.02962371\n",
      " 37793.91466671 50761.06983642 40465.91787298 29849.86247794\n",
      " 58032.90273039 39272.62559595 37896.26267452 31876.6780606\n",
      " 29574.73837201 41032.46226327 32920.75304068 32685.98102789\n",
      " 39518.93001193 43650.73072685 46695.58936525 39703.76175542\n",
      " 42043.50446917 34854.69618758 41033.07843081 46840.60292093\n",
      " 32935.83511376 43478.87539646 28324.65381439 34337.84333407\n",
      " 21446.82583421 47602.03828429 38155.36991024 63823.06545084\n",
      " 42299.04920264 42714.25056521 36146.24801841 38281.89058452\n",
      " 49121.39026838 33014.7227521  38459.0058538  37606.47121943\n",
      " 48955.35768427 23763.44793044 40366.31768288 44833.42460024\n",
      " 37416.08028284 38356.50812984 35424.19853992 58408.44579791\n",
      " 41920.29279612 39497.02491471 39241.0331291  41772.37821059\n",
      " 44788.65016164 35979.64057231 40302.20649369 38633.94717201\n",
      " 36006.70726195 42476.89963496 40493.73028011 34017.03874984\n",
      " 27301.9538297  54276.33212751 47355.52438253 34382.36908561\n",
      " 46756.05929851 33946.47990486 29771.57909946 40612.42685575\n",
      " 43994.01195661 54558.46812799 35006.61796988 38973.65527292\n",
      " 35587.22971475 35934.38305248 48586.27100954 46745.02493635\n",
      " 36609.15125536 37591.38665105 33475.97266216 33669.60510688\n",
      " 28447.6932431  34949.88915602 30430.0446763  34376.09180901\n",
      " 35551.05350665 43278.18544971 48385.97975631 39338.3910467\n",
      " 41920.300213   31611.71087914 42149.5464636  39805.19998635\n",
      " 50827.66572174 46546.17575659 36185.76647953 38434.08074067\n",
      " 41868.71628601 27948.00715201 44156.2859196  44257.4854377\n",
      " 39010.249193   32771.8938747  36089.96428805 36000.89503416\n",
      " 52279.67432571 31204.71918599 35815.56809042 37344.49941577\n",
      " 38472.9627093  27866.19550406 37627.75178687 35023.22235331\n",
      " 47110.21036183 49710.82470474 45384.92700789 50180.45156968\n",
      " 41885.99914624 40292.51118995 28064.80682436 28167.6417995\n",
      " 38210.59040567 55754.22224734 59298.91246046 34017.48863212\n",
      " 43409.36233213 53624.59379454 40757.45730146 48303.97399007\n",
      " 35726.92378603 44067.21688456 30953.7196251  34936.86839779\n",
      " 29983.56477917 27060.72993038 40191.97356582 33206.0275987\n",
      " 51442.45433888 21832.96011613 38321.5325009  43557.64462397\n",
      " 31259.224522   35731.40198042 48171.94013058 34505.58380434\n",
      " 42267.77643225 52698.87894152 50880.61098832 38285.25587379\n",
      " 49605.43923612 48159.93543455 35225.46522636 44032.60963067\n",
      " 42662.6014454  43119.1417826  32038.69271995 37202.31450095\n",
      " 56120.5669149  36159.70708797 49297.13001457 34763.96124791\n",
      " 48241.66402006 43428.43734618 47249.09962147 37464.22239339\n",
      " 18494.18558744 27233.9195239  34126.9126747  40570.43769527\n",
      " 30961.76315265 44567.92862617 45905.36960261 49292.41241692\n",
      " 26988.50497899 28112.8608965  41374.38605957 38655.36931698\n",
      " 50111.0888826  48522.34139276 28246.30131634 43114.86106529\n",
      " 49968.40207638 49219.31307366 51807.29840303 43920.7027662\n",
      " 39461.69893772 42275.58554401 32630.75491965 43830.67315438\n",
      " 38208.92811552 41808.49178066 44023.65973019 39399.39019324\n",
      " 28861.43684885 52661.6466507  44222.09739106 25683.52765368\n",
      " 31644.50009938 20907.54926398 52147.12385078 41494.50114096\n",
      " 60320.37225206 43926.7199159  39403.32803744 39472.81822542\n",
      " 48033.89715817 43151.98803392 37592.84794889 36434.14490171\n",
      " 47644.64897417 30338.4685172  46882.25150329 49443.35413308\n",
      " 41703.25572928 35546.71102358 50972.89275227 35038.39924236\n",
      " 26601.57420321 33859.45118431 37572.73428268 22604.82487493\n",
      " 36328.35732599 33870.91058453 46848.83271007 35398.1078286\n",
      " 35322.84009515 38300.49280043 39350.64991826 37131.23475688\n",
      " 41777.70648453 44623.46080077 30046.4081511  35648.66068547\n",
      " 51555.72293702 26172.03844626 41736.94859633 29068.58411816\n",
      " 48198.3197881  41667.44795558 50049.07064322 41167.92623501\n",
      " 31301.14510082 36306.21206989 50958.76504055 44388.76952325\n",
      " 36060.96354131 53794.11512203 35167.53294838 38125.70839335\n",
      " 35667.18765313 26872.91542668 39005.20402395 29804.66376592\n",
      " 52000.28432123 47157.15646966 44579.66637004 34512.0572351\n",
      " 27880.21618032 33191.32890605 43867.18145681 37426.64695376\n",
      " 48196.1600993  33157.26135483 36914.02832361 32385.74244005\n",
      " 44243.29906257 34642.2277187  41038.35697365 53647.90023763\n",
      " 39943.7871388  37104.31751301 38455.00264708 36364.22508631\n",
      " 22030.34414344 47182.97691294 42476.82286164 41923.64574001\n",
      " 44436.92865995 37173.61301632 41861.26519425 51573.62286195\n",
      " 37098.73156561 39624.72676806 31492.39446787 38691.68316185\n",
      " 34892.14501165 39787.75005988 40954.311006   46769.85641889\n",
      " 45634.49110745 38418.75902357 32726.13944319 45152.40396618\n",
      " 39495.32767598 31946.51753886 39095.16519418 41407.91642571\n",
      " 30606.90180048 52464.62197092 45798.32949759 33606.82604673\n",
      " 42103.44941253 40171.1949443  31813.11334125 52297.41552084\n",
      " 28724.99533536 36114.22835752 41996.25352292 34072.6261133\n",
      " 46917.16770271 43548.07657949 29738.45792778 30454.59182545\n",
      " 43824.95542035 37307.37799546 33306.78180866 32327.68895496\n",
      " 42884.9480681  42786.36598697 37490.66854142 42664.8159482\n",
      " 49387.05175403 36143.43447688 49071.67812274 36764.08266322\n",
      " 45109.35208766 31853.543978   42366.41599431 31849.0488083\n",
      " 42983.95593    43327.16051695 37342.85620746 46246.85442924\n",
      " 43853.44419089 39577.19139754 35852.24286208 22468.7098584\n",
      " 30407.31952003 37435.37857363 54237.59015547 49908.98521234\n",
      " 33691.04323147 47482.04015362 38106.17468368 33325.19907431\n",
      " 40050.00692324 33175.76188136 33255.04875916 29839.2103454\n",
      " 35385.669885   41064.95101778 38531.50056869 52530.36615371\n",
      " 42536.74480342 48818.54107341 50547.45226559 34372.37084987\n",
      " 43476.66568874 42896.42299652 36330.3244807  48258.48717704\n",
      " 35958.22880831 49186.4297994  53034.9452914  28411.55107953\n",
      " 58730.50072714 40983.0047061  57085.7176677  37977.33708623\n",
      " 35491.7422374  51207.28195896 39359.0758232  39186.43615967\n",
      " 48004.64873129 21935.37973463 29441.51114387 45945.12312699\n",
      " 34510.49094619 27492.46865423 49889.82080214 39202.19718076\n",
      " 50845.68311383 44940.9503259  31576.32247518 52630.56023752\n",
      " 38446.47895352 34805.29933325 30547.71938793 44907.68792554\n",
      " 42349.24958419 29291.9429154  34666.05474667 32154.52397203\n",
      " 37958.66558397 45042.5962003  57225.40949746 36933.81044774\n",
      " 44389.70262188 41176.90271073 35111.16516331 29612.65722269\n",
      " 47576.7926187  35019.5151386  36535.90553822 38009.94326169\n",
      " 47744.72719148 31893.79076814 32938.62188212 53500.69838063\n",
      " 48055.7711814  44039.26625849 32535.4826977  38843.46831849\n",
      " 47200.11611282 42158.3372505  35550.28678836 59998.24427292\n",
      " 30602.2626746  39203.09978305 32092.67232892 25619.39131957\n",
      " 42611.15036496 44238.45978586 48438.62625555 40263.96457287\n",
      " 18600.93284374 49172.38566046 48771.32054384 22161.92032955\n",
      " 36857.1240074  38304.11724923 25591.28572139 38361.44678308\n",
      " 59577.86414184 39002.55458361 42056.63092549 38230.15721869\n",
      " 36254.05033958 45476.80282437 43813.38583512 46971.39326246\n",
      " 50886.02679091 19634.69378138 23341.01216253 47396.37481549\n",
      " 43709.847899   44902.21460654 47246.50815466 33975.14371987\n",
      " 34808.6115839  44900.12426901 37578.67953719 50194.93628943\n",
      " 31498.88429347 54036.8245476  41918.72716031 40807.04868475\n",
      " 41511.13637754 38710.82204725 31928.27936347 41815.51943706\n",
      " 37759.1417348  33101.60696219 51205.93047286 41821.3297571\n",
      " 51796.89684063 48091.05718625 46737.05710411 44875.27987206\n",
      " 23883.69703203 35351.70012623 45153.00415033 47934.67045769\n",
      " 31500.92375037 36083.84641199 37640.27512462 31648.31478729\n",
      " 34111.76249921 29251.39281844 33276.25346783 33707.60345574\n",
      " 38722.55361899 29477.41652782 39780.3794653  46833.02338469\n",
      " 54494.11587384 31588.08451298 61483.5821041  34557.57247306\n",
      " 45280.61640101 45988.73448685 33861.10131467 41787.0032684\n",
      " 31053.78877472 46740.26417928 49532.75669621 44066.3920344\n",
      " 53461.51111218 36857.18957761 26294.42674501 52014.48874731\n",
      " 62228.09020736 33529.83946123 44827.83322772 40396.20995386\n",
      " 33677.24695118 46759.70992773 48382.11005112 48555.09492895\n",
      " 48251.60787549 33906.5936387  41909.78965245 43991.95010762\n",
      " 37927.67023783 30034.70611179 43441.35925907 42971.82917492\n",
      " 30467.77491226 39604.25811227 40967.66958559 47721.09053015\n",
      " 36911.56608725 35396.91648974 41159.46243627 38030.48004832\n",
      " 29360.61970852 36467.78466847 26439.7489846  37223.50673971\n",
      " 44804.85605637 40036.51364359 43033.65932746 23091.51094409\n",
      " 53132.9580738  43637.44093607 36587.83928547 41461.56288738\n",
      " 48411.26266896 26728.79134155 45771.56653175 50571.8422597\n",
      " 54250.72306754 37069.8685347  46179.30309872 51082.07068653\n",
      " 26157.74368097 48667.00057506 37318.68999003 48881.44218207\n",
      " 53318.4365006  51101.56675302 42088.92022876 34688.08273122\n",
      " 59314.66107897 36356.57491999 38172.65700756 40303.07677665\n",
      " 29433.99760379 58882.82487351 39356.44352929 48739.272497\n",
      " 45291.24529113 32737.61685016 44962.80123532 35652.55919071\n",
      " 38226.72688803 40849.59808571 42443.96801148 35177.00079503\n",
      " 48641.92341442 39916.52234975 50856.20157672 42053.71211757\n",
      " 32243.55666035 37958.53262286 29760.83398094 35110.47372465\n",
      " 38140.40038949 59967.88464725 36505.39862036 36533.43294004\n",
      " 37932.40254648 30741.42587215 37900.51495349 27421.77930132\n",
      " 46470.90610402 47679.51607212 37255.4277163  42892.2363177\n",
      " 52960.15222682 42831.02450688 45763.42788212 32534.76525329\n",
      " 38061.77305562 40016.32384849 35772.24316269 28211.591562\n",
      " 42253.17977778 47061.42704101 40698.71588743 41769.62074153\n",
      " 44339.5794647  48080.26221248 37692.94770733 46869.06582487\n",
      " 38259.74305818 43462.0132009  52855.79708647 41751.87352713\n",
      " 36253.13194558 41547.8644335  48948.24056561 47613.94226531\n",
      " 35930.61517104 45744.79781391 47153.36315828 32913.84414682\n",
      " 53892.92003581 45088.68430648 38681.81080361 42818.44606557\n",
      " 37707.52525914 43905.48379323 39296.27999953 53328.17212078\n",
      " 44614.31213572 35341.55964013 34482.05906837 30125.9585862\n",
      " 39349.87354961 45587.60372166 35799.93582179 44937.32223034\n",
      " 30500.55405586 40919.7784306  23478.11629547 39381.34761943\n",
      " 40100.10702181 29502.72005358 43256.8332116  38502.82016753\n",
      " 39634.8810564  35775.09883309 42542.27483881 40011.69516826\n",
      " 44658.27721122 50204.86757163 37654.05937918 54993.48484331\n",
      " 49346.37496216 42550.32114523 32437.94146104 25151.02335148\n",
      " 33291.50067374 51314.56983918 39632.4605823  31862.10253809\n",
      " 32547.88368683 30017.62763363 39241.94948634 41039.63119363\n",
      " 42148.9341915  40530.92658551 45144.59133753 34476.39071566\n",
      " 35230.72641228 46650.33353946 34856.37435242 24496.15876237\n",
      " 31651.91742553 37420.66805966 41945.10095742 32892.58389236\n",
      " 46790.41990067 58435.70721996 34472.27699076 28799.64537518\n",
      " 28952.95316352 36986.05626451 50151.68656888 42511.45671771\n",
      " 45538.3162568  38615.40787276 37326.78114912 43850.99692343\n",
      " 37072.22991022 50774.17672505 51270.73347215 41283.70341526\n",
      " 49832.08876316 36608.40384663 56209.07726163 45943.88666341\n",
      " 38263.56259685 45497.232759   52572.96265442 39880.00964125\n",
      " 36133.81640377 48231.45128905 47653.62363262 36953.50630654\n",
      " 46521.12556603 52041.66602505 39621.770089   45840.63934695\n",
      " 39939.811312   32230.16525387 28200.60399953 36286.80415786\n",
      " 40828.39204935 37403.56186898 37447.98063468 46949.89149237\n",
      " 41682.7699219  36864.51040094 36102.35550906 44655.9582307\n",
      " 42141.93370103 51979.64034757 37683.7727726  31650.97841415\n",
      " 39276.65998643 49601.58399714 47447.40661193 40709.490808\n",
      " 32397.80725121 45737.35521837 31071.53625112 36550.47075635\n",
      " 39655.50737888 44657.18129494 50804.88415057 44213.92108953\n",
      " 38298.69765792 47138.98897683 45202.84734343 43289.34707648\n",
      " 46178.2088891  32771.14598159 37064.5380042  30902.06027294\n",
      " 47833.15927508 47344.72118065 30787.25863759 45955.88913002\n",
      " 47741.53157126 47248.15223708 38959.79146995 30864.30677944\n",
      " 32794.1575957  42219.88413725 36435.13236494 20605.02279684\n",
      " 50174.52177248 42555.23758022 22899.21505283 48179.80613378\n",
      " 40257.73906832 33828.90460202 31438.16378633 34789.93615651\n",
      " 46619.84849217 42732.35777473 68962.30995909 54478.87049199]\n"
     ]
    }
   ],
   "source": [
    "print(y_test)"
   ]
  },
  {
   "cell_type": "code",
   "execution_count": 135,
   "metadata": {},
   "outputs": [],
   "source": [
    "y_m_pred = lm_m.predict(np.asarray(X_m_test).reshape(-1,1))\n",
    "y_pred = lm.predict(np.asarray(X_test).reshape(-1,1))"
   ]
  },
  {
   "cell_type": "code",
   "execution_count": 144,
   "metadata": {},
   "outputs": [
    {
     "ename": "IndexError",
     "evalue": "index 1000 is out of bounds for axis 0 with size 1000",
     "output_type": "error",
     "traceback": [
      "\u001b[0;31m---------------------------------------------------------------------------\u001b[0m",
      "\u001b[0;31mIndexError\u001b[0m                                Traceback (most recent call last)",
      "\u001b[0;32m<ipython-input-144-b4610f5b6f62>\u001b[0m in \u001b[0;36m<module>\u001b[0;34m\u001b[0m\n\u001b[1;32m     10\u001b[0m \u001b[0mfairness_m\u001b[0m \u001b[0;34m=\u001b[0m \u001b[0;34m[\u001b[0m\u001b[0;34m]\u001b[0m\u001b[0;34m\u001b[0m\u001b[0m\n\u001b[1;32m     11\u001b[0m \u001b[0;32mfor\u001b[0m \u001b[0mi\u001b[0m\u001b[0;34m,\u001b[0m\u001b[0my\u001b[0m \u001b[0;32min\u001b[0m \u001b[0menumerate\u001b[0m\u001b[0;34m(\u001b[0m\u001b[0my_m_test\u001b[0m\u001b[0;34m)\u001b[0m\u001b[0;34m:\u001b[0m\u001b[0;34m\u001b[0m\u001b[0m\n\u001b[0;32m---> 12\u001b[0;31m     \u001b[0;32mif\u001b[0m \u001b[0my\u001b[0m \u001b[0;34m<\u001b[0m \u001b[0my_pred\u001b[0m\u001b[0;34m[\u001b[0m\u001b[0mi\u001b[0m\u001b[0;34m]\u001b[0m\u001b[0;34m*\u001b[0m\u001b[0;36m1.05\u001b[0m\u001b[0;34m:\u001b[0m\u001b[0;34m\u001b[0m\u001b[0m\n\u001b[0m\u001b[1;32m     13\u001b[0m         \u001b[0mfairness_m\u001b[0m\u001b[0;34m.\u001b[0m\u001b[0mappend\u001b[0m\u001b[0;34m(\u001b[0m\u001b[0;36m1\u001b[0m\u001b[0;34m)\u001b[0m \u001b[0;31m# fair\u001b[0m\u001b[0;34m\u001b[0m\u001b[0m\n\u001b[1;32m     14\u001b[0m     \u001b[0;32melse\u001b[0m\u001b[0;34m:\u001b[0m \u001b[0mfairness_m\u001b[0m\u001b[0;34m.\u001b[0m\u001b[0mappend\u001b[0m\u001b[0;34m(\u001b[0m\u001b[0;36m0\u001b[0m\u001b[0;34m)\u001b[0m\u001b[0;34m\u001b[0m\u001b[0m\n",
      "\u001b[0;31mIndexError\u001b[0m: index 1000 is out of bounds for axis 0 with size 1000"
     ]
    }
   ],
   "source": [
    "# y_test = y_test.reset_index\n",
    "# y_m_test = y_m_test.reset_index\n",
    "\n",
    "fairness_w = []\n",
    "for i,y in enumerate(y_test):\n",
    "    if y > y_m_pred[i]*.95:\n",
    "        fairness_w.append(1) # fair\n",
    "    else: fairness_w.append(0)\n",
    "\n",
    "fairness_m = []\n",
    "for i,y in enumerate(y_m_test):\n",
    "    if y < y_pred[i]*1.05:\n",
    "        fairness_m.append(1) # fair\n",
    "    else: fairness_m.append(0)"
   ]
  },
  {
   "cell_type": "code",
   "execution_count": 117,
   "metadata": {},
   "outputs": [
    {
     "data": {
      "text/plain": [
       "pandas.core.series.Series"
      ]
     },
     "execution_count": 117,
     "metadata": {},
     "output_type": "execute_result"
    }
   ],
   "source": [
    "type(X_test)"
   ]
  },
  {
   "cell_type": "code",
   "execution_count": null,
   "metadata": {},
   "outputs": [],
   "source": []
  }
 ],
 "metadata": {
  "kernelspec": {
   "display_name": "Python 3",
   "language": "python",
   "name": "python3"
  },
  "language_info": {
   "codemirror_mode": {
    "name": "ipython",
    "version": 3
   },
   "file_extension": ".py",
   "mimetype": "text/x-python",
   "name": "python",
   "nbconvert_exporter": "python",
   "pygments_lexer": "ipython3",
   "version": "3.6.5"
  }
 },
 "nbformat": 4,
 "nbformat_minor": 2
}
